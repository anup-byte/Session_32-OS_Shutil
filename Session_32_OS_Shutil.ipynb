{
 "cells": [
  {
   "cell_type": "code",
   "execution_count": null,
   "id": "0d3e788e",
   "metadata": {},
   "outputs": [],
   "source": [
    "#Inbulit module in python "
   ]
  },
  {
   "cell_type": "code",
   "execution_count": null,
   "id": "388c238d",
   "metadata": {},
   "outputs": [],
   "source": [
    "# os module\n",
    "\n",
    "import os"
   ]
  },
  {
   "cell_type": "code",
   "execution_count": 1,
   "id": "bcfb4455",
   "metadata": {},
   "outputs": [
    {
     "ename": "NameError",
     "evalue": "name 'os' is not defined",
     "output_type": "error",
     "traceback": [
      "\u001b[0;31m---------------------------------------------------------------------------\u001b[0m",
      "\u001b[0;31mNameError\u001b[0m                                 Traceback (most recent call last)",
      "Cell \u001b[0;32mIn[1], line 1\u001b[0m\n\u001b[0;32m----> 1\u001b[0m os\u001b[38;5;241m.\u001b[39mgetcwd()\n",
      "\u001b[0;31mNameError\u001b[0m: name 'os' is not defined"
     ]
    }
   ],
   "source": [
    "os.getcwd()"
   ]
  },
  {
   "cell_type": "code",
   "execution_count": 2,
   "id": "f15f577c",
   "metadata": {},
   "outputs": [
    {
     "ename": "NameError",
     "evalue": "name 'getcwd' is not defined",
     "output_type": "error",
     "traceback": [
      "\u001b[0;31m---------------------------------------------------------------------------\u001b[0m",
      "\u001b[0;31mNameError\u001b[0m                                 Traceback (most recent call last)",
      "Cell \u001b[0;32mIn[2], line 1\u001b[0m\n\u001b[0;32m----> 1\u001b[0m getcwd()\n",
      "\u001b[0;31mNameError\u001b[0m: name 'getcwd' is not defined"
     ]
    }
   ],
   "source": [
    "getcwd()"
   ]
  },
  {
   "cell_type": "code",
   "execution_count": 3,
   "id": "f1c43065",
   "metadata": {},
   "outputs": [],
   "source": [
    "import os"
   ]
  },
  {
   "cell_type": "code",
   "execution_count": 4,
   "id": "2a128ffa",
   "metadata": {},
   "outputs": [
    {
     "data": {
      "text/plain": [
       "'/Users/anupjha/Desktop/Desk/AI KI PAATHSHALA/Python'"
      ]
     },
     "execution_count": 4,
     "metadata": {},
     "output_type": "execute_result"
    }
   ],
   "source": [
    "os.getcwd() # Current working Directory"
   ]
  },
  {
   "cell_type": "code",
   "execution_count": 5,
   "id": "f4d5e94e",
   "metadata": {},
   "outputs": [
    {
     "data": {
      "text/plain": [
       "['Session_24_function_Part_4.ipynb',\n",
       " 'Recursion1.ipynb',\n",
       " 'Session_18_Dictionary.ipynb',\n",
       " 'Untitled1.ipynb',\n",
       " 'color.py',\n",
       " '.DS_Store',\n",
       " 'Python_Cheat_Sheet_for_Beginners.pdf',\n",
       " 'newfile.txt50',\n",
       " 'Anup_Python.ipynb',\n",
       " 'hands_on_coding1.ipynb',\n",
       " 'Session_25_Recursion_Part_1.ipynb',\n",
       " 'Untitled.ipynb',\n",
       " 'Session_26_Recursion_Part_2.ipynb',\n",
       " 'Session_28_Recursion_Part_4.ipynb',\n",
       " 'python-cheatsheets.pdf',\n",
       " 'Doubt_session1.ipynb',\n",
       " 'Session_4_String_formatting.ipynb',\n",
       " 'First_Program.ipynb',\n",
       " 'Session_22_function_Part_2.ipynb',\n",
       " 'Session_6_Biwise_operator_Refresher.ipynb',\n",
       " 'Session_19_string.ipynb',\n",
       " 'Bitwise_Operator_python.ipynb',\n",
       " 'Session_17_Set_Dictionary.ipynb',\n",
       " 'Session_27_Recursion_Part_3.ipynb',\n",
       " 'Session_7_conditional_Statement_If_else.ipynb',\n",
       " 'Session_3_Data_types_python.ipynb',\n",
       " 'newfile1.txt',\n",
       " 'Session_29_Recursion_Part_5.ipynb',\n",
       " 'File_Handling.ipynb',\n",
       " '__pycache__',\n",
       " 'Session_15_List.ipynb',\n",
       " 'newfile.txt',\n",
       " 'newfile50.txt',\n",
       " 'Recursion_1.ipynb',\n",
       " 'Session_23_function_Part_3.ipynb',\n",
       " 'Session_32_OS_Shutil.ipynb',\n",
       " 'Session_10_Loop_control.ipynb',\n",
       " 'Data_types.ipynb',\n",
       " 'Session_2_fundamentals_of_python.ipynb',\n",
       " 'Session_30_Recursion_Part_6.ipynb',\n",
       " 'Session_13_list.ipynb',\n",
       " 'Session_21_function_Part_1.ipynb',\n",
       " 'Session_9_for_else.ipynb',\n",
       " 'Session_8_while_loop.ipynb',\n",
       " '1.1. Functions_Introduction_Notes.ipynb',\n",
       " 'function_inside_function.ipynb',\n",
       " 'Iterator generator.ipynb',\n",
       " 'First_session.ipynb',\n",
       " 'test.txt',\n",
       " '.ipynb_checkpoints',\n",
       " 'Python_if_else.ipynb',\n",
       " 'Importing_Data_Cheat_Sheet.pdf',\n",
       " 'Session_5_Operators_in_Python.ipynb',\n",
       " 'Session_16_Tuple.ipynb',\n",
       " 'Module_practice_1.ipynb',\n",
       " 'Session_14_list.ipynb',\n",
       " 'untitled',\n",
       " 'Session_31_Iterator_and_Generator.ipynb',\n",
       " 'OOP_Practice_1.ipynb',\n",
       " 'Bitwise_Screenshot',\n",
       " 'python_session_12.ipynb']"
      ]
     },
     "execution_count": 5,
     "metadata": {},
     "output_type": "execute_result"
    }
   ],
   "source": [
    "os.listdir() # It returns list of files or folders in the present working directory"
   ]
  },
  {
   "cell_type": "code",
   "execution_count": 6,
   "id": "ad0e6e1d",
   "metadata": {},
   "outputs": [
    {
     "data": {
      "text/plain": [
       "['nacho nacho logo.pdf',\n",
       " '~$ashank video Script.docx',\n",
       " '.DS_Store',\n",
       " 'git2.mp4',\n",
       " 'Desk',\n",
       " 'Screenshot 2023-10-03 at 11.02.47 PM.png',\n",
       " 'gitandgithub2.png',\n",
       " '.localized',\n",
       " 'machine_learning_project-main',\n",
       " 'rec5.mp4',\n",
       " '.ipynb_checkpoints',\n",
       " '~$at is Artificial Intelligence (1).docx']"
      ]
     },
     "execution_count": 6,
     "metadata": {},
     "output_type": "execute_result"
    }
   ],
   "source": [
    "os.listdir('/Users/anupjha/Desktop')"
   ]
  },
  {
   "cell_type": "code",
   "execution_count": 7,
   "id": "f0e51536",
   "metadata": {},
   "outputs": [
    {
     "data": {
      "text/plain": [
       "'/Users/anupjha/Desktop/Desk/AI KI PAATHSHALA/Python'"
      ]
     },
     "execution_count": 7,
     "metadata": {},
     "output_type": "execute_result"
    }
   ],
   "source": [
    "pwd"
   ]
  },
  {
   "cell_type": "code",
   "execution_count": 8,
   "id": "cf6369a4",
   "metadata": {},
   "outputs": [
    {
     "data": {
      "text/plain": [
       "'/Users/anupjha/Desktop/Desk/AI KI PAATHSHALA/Python'"
      ]
     },
     "execution_count": 8,
     "metadata": {},
     "output_type": "execute_result"
    }
   ],
   "source": [
    "os.getcwd()"
   ]
  },
  {
   "cell_type": "code",
   "execution_count": 9,
   "id": "72d18feb",
   "metadata": {},
   "outputs": [],
   "source": [
    "os.chdir('/Users/anupjha/Desktop/machine_learning_project-main')"
   ]
  },
  {
   "cell_type": "code",
   "execution_count": 10,
   "id": "9454b2a7",
   "metadata": {},
   "outputs": [
    {
     "data": {
      "text/plain": [
       "'/Users/anupjha/Desktop/machine_learning_project-main'"
      ]
     },
     "execution_count": 10,
     "metadata": {},
     "output_type": "execute_result"
    }
   ],
   "source": [
    "os.getcwd()"
   ]
  },
  {
   "cell_type": "code",
   "execution_count": 11,
   "id": "f89ba3ac",
   "metadata": {},
   "outputs": [
    {
     "data": {
      "text/plain": [
       "['LICENSE',\n",
       " 'requirements.txt',\n",
       " 'Dockerfile',\n",
       " 'README.md',\n",
       " '.dockerignore',\n",
       " '.gitignore',\n",
       " '.github',\n",
       " 'app.py']"
      ]
     },
     "execution_count": 11,
     "metadata": {},
     "output_type": "execute_result"
    }
   ],
   "source": [
    "os.listdir()"
   ]
  },
  {
   "cell_type": "code",
   "execution_count": 12,
   "id": "abb0564d",
   "metadata": {},
   "outputs": [],
   "source": [
    "os.chdir('/Users/anupjha/Desktop/Desk/AI KI PAATHSHALA/Python')"
   ]
  },
  {
   "cell_type": "code",
   "execution_count": 13,
   "id": "3fcaacc0",
   "metadata": {},
   "outputs": [
    {
     "data": {
      "text/plain": [
       "'/Users/anupjha/Desktop/Desk/AI KI PAATHSHALA/Python'"
      ]
     },
     "execution_count": 13,
     "metadata": {},
     "output_type": "execute_result"
    }
   ],
   "source": [
    "os.getcwd()"
   ]
  },
  {
   "cell_type": "code",
   "execution_count": 14,
   "id": "b0d94332",
   "metadata": {},
   "outputs": [],
   "source": [
    "os.chdir(\"../\")"
   ]
  },
  {
   "cell_type": "code",
   "execution_count": 15,
   "id": "4059c005",
   "metadata": {},
   "outputs": [
    {
     "data": {
      "text/plain": [
       "'/Users/anupjha/Desktop/Desk/AI KI PAATHSHALA'"
      ]
     },
     "execution_count": 15,
     "metadata": {},
     "output_type": "execute_result"
    }
   ],
   "source": [
    "os.getcwd()"
   ]
  },
  {
   "cell_type": "code",
   "execution_count": 16,
   "id": "c9068b50",
   "metadata": {},
   "outputs": [],
   "source": [
    "os.chdir(\"../\")"
   ]
  },
  {
   "cell_type": "code",
   "execution_count": 17,
   "id": "91f50acd",
   "metadata": {},
   "outputs": [
    {
     "data": {
      "text/plain": [
       "'/Users/anupjha/Desktop/Desk'"
      ]
     },
     "execution_count": 17,
     "metadata": {},
     "output_type": "execute_result"
    }
   ],
   "source": [
    "os.getcwd()"
   ]
  },
  {
   "cell_type": "code",
   "execution_count": 18,
   "id": "99c1eb3d",
   "metadata": {},
   "outputs": [],
   "source": [
    "os.chdir(\"../\")"
   ]
  },
  {
   "cell_type": "code",
   "execution_count": 19,
   "id": "51f5f909",
   "metadata": {},
   "outputs": [
    {
     "data": {
      "text/plain": [
       "'/Users/anupjha/Desktop'"
      ]
     },
     "execution_count": 19,
     "metadata": {},
     "output_type": "execute_result"
    }
   ],
   "source": [
    "os.getcwd()"
   ]
  },
  {
   "cell_type": "code",
   "execution_count": 20,
   "id": "1072fea0",
   "metadata": {},
   "outputs": [],
   "source": [
    "os.chdir('/Users/anupjha/Desktop/Desk/AI KI PAATHSHALA/Python')"
   ]
  },
  {
   "cell_type": "code",
   "execution_count": null,
   "id": "ceb3536d",
   "metadata": {},
   "outputs": [],
   "source": [
    "# os.path.join"
   ]
  },
  {
   "cell_type": "code",
   "execution_count": 21,
   "id": "4ef78939",
   "metadata": {},
   "outputs": [],
   "source": [
    "os.chdir('/Users/anupjha/Desktop/Desk/AI KI PAATHSHALA')"
   ]
  },
  {
   "cell_type": "code",
   "execution_count": 22,
   "id": "f9c5d511",
   "metadata": {},
   "outputs": [
    {
     "data": {
      "text/plain": [
       "'/Users/anupjha/Desktop/Desk/AI KI PAATHSHALA'"
      ]
     },
     "execution_count": 22,
     "metadata": {},
     "output_type": "execute_result"
    }
   ],
   "source": [
    "os.getcwd()"
   ]
  },
  {
   "cell_type": "code",
   "execution_count": 23,
   "id": "0fec0f84",
   "metadata": {},
   "outputs": [],
   "source": [
    "dirName = 'SRA'\n",
    "os.mkdir(dirName)"
   ]
  },
  {
   "cell_type": "code",
   "execution_count": 24,
   "id": "d719724b",
   "metadata": {},
   "outputs": [
    {
     "data": {
      "text/plain": [
       "['Thumbnail',\n",
       " 'MSME',\n",
       " '.DS_Store',\n",
       " 'Git and Github',\n",
       " 'Python',\n",
       " 'Untitled.ipynb',\n",
       " 'AI_NEWS',\n",
       " 'Assignment_Basics_program',\n",
       " 'SRA',\n",
       " '.ipynb_checkpoints',\n",
       " 'Mypic']"
      ]
     },
     "execution_count": 24,
     "metadata": {},
     "output_type": "execute_result"
    }
   ],
   "source": [
    "os.listdir()"
   ]
  },
  {
   "cell_type": "code",
   "execution_count": null,
   "id": "4beebc2a",
   "metadata": {},
   "outputs": [],
   "source": [
    "# os.path.join"
   ]
  },
  {
   "cell_type": "code",
   "execution_count": null,
   "id": "fb5c1ae7",
   "metadata": {},
   "outputs": [],
   "source": [
    "mainPath = 'mainDir'\n",
    "subDir_or_file = 'subDir_or_file'\n",
    "\n",
    "os.path.join(mainPath, subDir_or_file)"
   ]
  },
  {
   "cell_type": "code",
   "execution_count": 25,
   "id": "79f2cd54",
   "metadata": {},
   "outputs": [
    {
     "data": {
      "text/plain": [
       "'/Users/anupjha/Desktop/Desk/AI KI PAATHSHALA'"
      ]
     },
     "execution_count": 25,
     "metadata": {},
     "output_type": "execute_result"
    }
   ],
   "source": [
    "os.getcwd()"
   ]
  },
  {
   "cell_type": "code",
   "execution_count": 26,
   "id": "adc461b0",
   "metadata": {},
   "outputs": [
    {
     "data": {
      "text/plain": [
       "'/Users/anupjha/Desktop/Desk/AI KI PAATHSHALA/SRAA'"
      ]
     },
     "execution_count": 26,
     "metadata": {},
     "output_type": "execute_result"
    }
   ],
   "source": [
    "os.path.join('/Users/anupjha/Desktop/Desk/AI KI PAATHSHALA'\n",
    ", 'SRAA')"
   ]
  },
  {
   "cell_type": "code",
   "execution_count": 27,
   "id": "a4fe3b82",
   "metadata": {},
   "outputs": [
    {
     "data": {
      "text/plain": [
       "'/Users/anupjha/Desktop/Desk/AI KI PAATHSHALA'"
      ]
     },
     "execution_count": 27,
     "metadata": {},
     "output_type": "execute_result"
    }
   ],
   "source": [
    "os.getcwd()"
   ]
  },
  {
   "cell_type": "code",
   "execution_count": 28,
   "id": "614eec5b",
   "metadata": {},
   "outputs": [
    {
     "ename": "FileNotFoundError",
     "evalue": "[Errno 2] No such file or directory: '/Users/anupjha/Desktop/Desk/AI KI PAATHSHALA/SRAA'",
     "output_type": "error",
     "traceback": [
      "\u001b[0;31m---------------------------------------------------------------------------\u001b[0m",
      "\u001b[0;31mFileNotFoundError\u001b[0m                         Traceback (most recent call last)",
      "Cell \u001b[0;32mIn[28], line 1\u001b[0m\n\u001b[0;32m----> 1\u001b[0m os\u001b[38;5;241m.\u001b[39mchdir(\u001b[38;5;124m'\u001b[39m\u001b[38;5;124m/Users/anupjha/Desktop/Desk/AI KI PAATHSHALA/SRAA\u001b[39m\u001b[38;5;124m'\u001b[39m)\n",
      "\u001b[0;31mFileNotFoundError\u001b[0m: [Errno 2] No such file or directory: '/Users/anupjha/Desktop/Desk/AI KI PAATHSHALA/SRAA'"
     ]
    }
   ],
   "source": [
    "os.chdir('/Users/anupjha/Desktop/Desk/AI KI PAATHSHALA/SRAA')"
   ]
  },
  {
   "cell_type": "code",
   "execution_count": 29,
   "id": "c909446e",
   "metadata": {},
   "outputs": [
    {
     "data": {
      "text/plain": [
       "'/Users/anupjha/Desktop/Desk/AI KI PAATHSHALA/SRA'"
      ]
     },
     "execution_count": 29,
     "metadata": {},
     "output_type": "execute_result"
    }
   ],
   "source": [
    "os.path.join('/Users/anupjha/Desktop/Desk/AI KI PAATHSHALA','SRA')"
   ]
  },
  {
   "cell_type": "code",
   "execution_count": 30,
   "id": "83fa6ae4",
   "metadata": {},
   "outputs": [
    {
     "data": {
      "text/plain": [
       "'/Users/anupjha/Desktop/Desk/AI KI PAATHSHALA'"
      ]
     },
     "execution_count": 30,
     "metadata": {},
     "output_type": "execute_result"
    }
   ],
   "source": [
    "os.getcwd()"
   ]
  },
  {
   "cell_type": "code",
   "execution_count": 31,
   "id": "338c7e9d",
   "metadata": {},
   "outputs": [],
   "source": [
    "os.chdir('/Users/anupjha/Desktop/Desk/AI KI PAATHSHALA/SRA')"
   ]
  },
  {
   "cell_type": "code",
   "execution_count": 32,
   "id": "bc8264de",
   "metadata": {},
   "outputs": [
    {
     "data": {
      "text/plain": [
       "'/Users/anupjha/Desktop/Desk/AI KI PAATHSHALA/SRA'"
      ]
     },
     "execution_count": 32,
     "metadata": {},
     "output_type": "execute_result"
    }
   ],
   "source": [
    "os.getcwd()"
   ]
  },
  {
   "cell_type": "code",
   "execution_count": 33,
   "id": "459dc3f2",
   "metadata": {},
   "outputs": [],
   "source": [
    "os.mkdir('Ruchi')"
   ]
  },
  {
   "cell_type": "code",
   "execution_count": null,
   "id": "0d07dfce",
   "metadata": {},
   "outputs": [],
   "source": [
    "# to make folders recursively"
   ]
  },
  {
   "cell_type": "code",
   "execution_count": 36,
   "id": "37cfc532",
   "metadata": {},
   "outputs": [
    {
     "data": {
      "text/plain": [
       "'/Users/anupjha/Desktop/Desk/AI KI PAATHSHALA/SRA/Rakesh/Anup'"
      ]
     },
     "execution_count": 36,
     "metadata": {},
     "output_type": "execute_result"
    }
   ],
   "source": [
    "os.path.join('/Users/anupjha/Desktop/Desk/AI KI PAATHSHALA/SRA/Rakesh','Anup') "
   ]
  },
  {
   "cell_type": "code",
   "execution_count": 37,
   "id": "e80981a4",
   "metadata": {},
   "outputs": [],
   "source": [
    "os.makedirs('/Users/anupjha/Desktop/Desk/AI KI PAATHSHALA/SRA/Rakesh/Anup')"
   ]
  },
  {
   "cell_type": "code",
   "execution_count": null,
   "id": "dbc91095",
   "metadata": {},
   "outputs": [],
   "source": [
    "#os.makedirs()"
   ]
  },
  {
   "cell_type": "code",
   "execution_count": 39,
   "id": "664c8735",
   "metadata": {},
   "outputs": [],
   "source": [
    "os.makedirs('/Users/anupjha/Desktop/Desk/AI KI PAATHSHALA/ABCD')"
   ]
  },
  {
   "cell_type": "code",
   "execution_count": 42,
   "id": "7442d6d2",
   "metadata": {},
   "outputs": [],
   "source": [
    "os.makedirs('/Users/anupjha/Desktop/Desk/AI KI PAATHSHALA/SRA', exist_ok = True)"
   ]
  },
  {
   "cell_type": "code",
   "execution_count": 43,
   "id": "24e42b2f",
   "metadata": {},
   "outputs": [
    {
     "ename": "FileExistsError",
     "evalue": "[Errno 17] File exists: '/Users/anupjha/Desktop/Desk/AI KI PAATHSHALA/SRA'",
     "output_type": "error",
     "traceback": [
      "\u001b[0;31m---------------------------------------------------------------------------\u001b[0m",
      "\u001b[0;31mFileExistsError\u001b[0m                           Traceback (most recent call last)",
      "Cell \u001b[0;32mIn[43], line 1\u001b[0m\n\u001b[0;32m----> 1\u001b[0m os\u001b[38;5;241m.\u001b[39mmakedirs(\u001b[38;5;124m'\u001b[39m\u001b[38;5;124m/Users/anupjha/Desktop/Desk/AI KI PAATHSHALA/SRA\u001b[39m\u001b[38;5;124m'\u001b[39m, exist_ok \u001b[38;5;241m=\u001b[39m \u001b[38;5;28;01mFalse\u001b[39;00m)\n",
      "File \u001b[0;32m<frozen os>:225\u001b[0m, in \u001b[0;36mmakedirs\u001b[0;34m(name, mode, exist_ok)\u001b[0m\n",
      "\u001b[0;31mFileExistsError\u001b[0m: [Errno 17] File exists: '/Users/anupjha/Desktop/Desk/AI KI PAATHSHALA/SRA'"
     ]
    }
   ],
   "source": [
    "os.makedirs('/Users/anupjha/Desktop/Desk/AI KI PAATHSHALA/SRA', exist_ok = False)"
   ]
  },
  {
   "cell_type": "code",
   "execution_count": 44,
   "id": "f906679a",
   "metadata": {},
   "outputs": [],
   "source": [
    "os.makedirs('/Users/anupjha/Desktop/Desk/AI KI PAATHSHALA/SRA', exist_ok = True)"
   ]
  },
  {
   "cell_type": "code",
   "execution_count": null,
   "id": "e1b33db5",
   "metadata": {},
   "outputs": [],
   "source": [
    "# os.rename"
   ]
  },
  {
   "cell_type": "code",
   "execution_count": 45,
   "id": "97107d65",
   "metadata": {},
   "outputs": [
    {
     "data": {
      "text/plain": [
       "'/Users/anupjha/Desktop/Desk/AI KI PAATHSHALA/SRA'"
      ]
     },
     "execution_count": 45,
     "metadata": {},
     "output_type": "execute_result"
    }
   ],
   "source": [
    "os.getcwd()"
   ]
  },
  {
   "cell_type": "code",
   "execution_count": 47,
   "id": "adde8007",
   "metadata": {},
   "outputs": [
    {
     "ename": "OSError",
     "evalue": "[Errno 22] Invalid argument: '/Users/anupjha/Desktop/Desk/AI KI PAATHSHALA/SRA' -> 'AI_KI_Bhoot'",
     "output_type": "error",
     "traceback": [
      "\u001b[0;31m---------------------------------------------------------------------------\u001b[0m",
      "\u001b[0;31mOSError\u001b[0m                                   Traceback (most recent call last)",
      "Cell \u001b[0;32mIn[47], line 3\u001b[0m\n\u001b[1;32m      1\u001b[0m \u001b[38;5;66;03m#oldName = 'SRA'\u001b[39;00m\n\u001b[1;32m      2\u001b[0m \u001b[38;5;66;03m#newName = 'AI_KI_Bhoot'\u001b[39;00m\n\u001b[0;32m----> 3\u001b[0m os\u001b[38;5;241m.\u001b[39mrename(\u001b[38;5;124m'\u001b[39m\u001b[38;5;124m/Users/anupjha/Desktop/Desk/AI KI PAATHSHALA/SRA\u001b[39m\u001b[38;5;124m'\u001b[39m, \u001b[38;5;124m'\u001b[39m\u001b[38;5;124mAI_KI_Bhoot\u001b[39m\u001b[38;5;124m'\u001b[39m)\n",
      "\u001b[0;31mOSError\u001b[0m: [Errno 22] Invalid argument: '/Users/anupjha/Desktop/Desk/AI KI PAATHSHALA/SRA' -> 'AI_KI_Bhoot'"
     ]
    }
   ],
   "source": [
    "#oldName = 'SRA'\n",
    "#newName = 'AI_KI_Bhoot'\n",
    "#os.rename('/Users/anupjha/Desktop/Desk/AI KI PAATHSHALA/SRA', 'AI_KI_Bhoot')"
   ]
  },
  {
   "cell_type": "code",
   "execution_count": 48,
   "id": "c11ed0b4",
   "metadata": {},
   "outputs": [
    {
     "data": {
      "text/plain": [
       "'/Users/anupjha/Desktop/Desk/AI KI PAATHSHALA/SRA'"
      ]
     },
     "execution_count": 48,
     "metadata": {},
     "output_type": "execute_result"
    }
   ],
   "source": [
    "pwd"
   ]
  },
  {
   "cell_type": "code",
   "execution_count": 49,
   "id": "331f163b",
   "metadata": {},
   "outputs": [
    {
     "ename": "FileNotFoundError",
     "evalue": "[Errno 2] No such file or directory: 'ABCD' -> 'PQRS'",
     "output_type": "error",
     "traceback": [
      "\u001b[0;31m---------------------------------------------------------------------------\u001b[0m",
      "\u001b[0;31mFileNotFoundError\u001b[0m                         Traceback (most recent call last)",
      "Cell \u001b[0;32mIn[49], line 1\u001b[0m\n\u001b[0;32m----> 1\u001b[0m os\u001b[38;5;241m.\u001b[39mrename(\u001b[38;5;124m'\u001b[39m\u001b[38;5;124mABCD\u001b[39m\u001b[38;5;124m'\u001b[39m, \u001b[38;5;124m'\u001b[39m\u001b[38;5;124mPQRS\u001b[39m\u001b[38;5;124m'\u001b[39m)\n",
      "\u001b[0;31mFileNotFoundError\u001b[0m: [Errno 2] No such file or directory: 'ABCD' -> 'PQRS'"
     ]
    }
   ],
   "source": [
    "os.rename('ABCD', 'PQRS')"
   ]
  },
  {
   "cell_type": "code",
   "execution_count": 50,
   "id": "97060f62",
   "metadata": {},
   "outputs": [],
   "source": [
    "os.chdir('/Users/anupjha/Desktop')"
   ]
  },
  {
   "cell_type": "code",
   "execution_count": 51,
   "id": "41ef0d17",
   "metadata": {},
   "outputs": [
    {
     "data": {
      "text/plain": [
       "'/Users/anupjha/Desktop'"
      ]
     },
     "execution_count": 51,
     "metadata": {},
     "output_type": "execute_result"
    }
   ],
   "source": [
    "pwd"
   ]
  },
  {
   "cell_type": "code",
   "execution_count": 52,
   "id": "1f1176df",
   "metadata": {},
   "outputs": [],
   "source": [
    "os.mkdir(\"ABCD\")"
   ]
  },
  {
   "cell_type": "code",
   "execution_count": 53,
   "id": "1df758f9",
   "metadata": {},
   "outputs": [],
   "source": [
    "os.rename(\"ABCD\", \"PQRS\")"
   ]
  },
  {
   "cell_type": "code",
   "execution_count": 54,
   "id": "415c8358",
   "metadata": {},
   "outputs": [],
   "source": [
    "os.mkdir(\"Ruchi\")"
   ]
  },
  {
   "cell_type": "code",
   "execution_count": 55,
   "id": "ba2c8060",
   "metadata": {},
   "outputs": [],
   "source": [
    "os.rename(\"Ruchi\", \"Shanker\")"
   ]
  },
  {
   "cell_type": "code",
   "execution_count": null,
   "id": "7712b1ef",
   "metadata": {},
   "outputs": [],
   "source": [
    "# os.rmdir()"
   ]
  },
  {
   "cell_type": "code",
   "execution_count": 56,
   "id": "78723ef8",
   "metadata": {},
   "outputs": [],
   "source": [
    "os.rmdir(\"Shanker\")"
   ]
  },
  {
   "cell_type": "code",
   "execution_count": null,
   "id": "b9132ded",
   "metadata": {},
   "outputs": [],
   "source": [
    "# os.removedirs()"
   ]
  },
  {
   "cell_type": "code",
   "execution_count": 57,
   "id": "8fbc988f",
   "metadata": {},
   "outputs": [],
   "source": [
    "os.removedirs(\"PQRS/xyz\")"
   ]
  },
  {
   "cell_type": "code",
   "execution_count": null,
   "id": "49c4a887",
   "metadata": {},
   "outputs": [],
   "source": [
    "# Shutil module"
   ]
  },
  {
   "cell_type": "code",
   "execution_count": 58,
   "id": "321e9ca5",
   "metadata": {},
   "outputs": [],
   "source": [
    "import shutil"
   ]
  },
  {
   "cell_type": "code",
   "execution_count": 59,
   "id": "7162bd5c",
   "metadata": {},
   "outputs": [
    {
     "data": {
      "text/plain": [
       "'Buddha'"
      ]
     },
     "execution_count": 59,
     "metadata": {},
     "output_type": "execute_result"
    }
   ],
   "source": [
    "shutil.move(\"PQRS\", \"Buddha\")"
   ]
  },
  {
   "cell_type": "code",
   "execution_count": 60,
   "id": "76efd600",
   "metadata": {},
   "outputs": [
    {
     "data": {
      "text/plain": [
       "'Buddha/PQRS'"
      ]
     },
     "execution_count": 60,
     "metadata": {},
     "output_type": "execute_result"
    }
   ],
   "source": [
    "shutil.move(\"PQRS\", \"Buddha\")"
   ]
  },
  {
   "cell_type": "code",
   "execution_count": null,
   "id": "0b5681b5",
   "metadata": {},
   "outputs": [],
   "source": [
    "# creating a temporary file by name ml.txt"
   ]
  },
  {
   "cell_type": "code",
   "execution_count": 61,
   "id": "d26057ba",
   "metadata": {},
   "outputs": [
    {
     "data": {
      "text/plain": [
       "'/Users/anupjha/Desktop'"
      ]
     },
     "execution_count": 61,
     "metadata": {},
     "output_type": "execute_result"
    }
   ],
   "source": [
    "pwd"
   ]
  },
  {
   "cell_type": "code",
   "execution_count": 62,
   "id": "78ea3096",
   "metadata": {},
   "outputs": [],
   "source": [
    "!touch ml.txt"
   ]
  },
  {
   "cell_type": "code",
   "execution_count": 63,
   "id": "3c0b2534",
   "metadata": {},
   "outputs": [
    {
     "data": {
      "text/plain": [
       "'Buddha/ml.txt'"
      ]
     },
     "execution_count": 63,
     "metadata": {},
     "output_type": "execute_result"
    }
   ],
   "source": [
    "source = \"ml.txt\"\n",
    "destination = \"Buddha\"\n",
    "\n",
    "shutil.copy(src = source, dst = destination)"
   ]
  }
 ],
 "metadata": {
  "kernelspec": {
   "display_name": "Python 3 (ipykernel)",
   "language": "python",
   "name": "python3"
  },
  "language_info": {
   "codemirror_mode": {
    "name": "ipython",
    "version": 3
   },
   "file_extension": ".py",
   "mimetype": "text/x-python",
   "name": "python",
   "nbconvert_exporter": "python",
   "pygments_lexer": "ipython3",
   "version": "3.11.4"
  }
 },
 "nbformat": 4,
 "nbformat_minor": 5
}
